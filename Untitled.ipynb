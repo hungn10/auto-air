{
 "cells": [
  {
   "cell_type": "code",
   "execution_count": 2,
   "id": "e21af81a",
   "metadata": {},
   "outputs": [],
   "source": [
    "import undetected_chromedriver.v2 as uc\n",
    "from webdriver_manager.chrome import ChromeDriverManager"
   ]
  },
  {
   "cell_type": "code",
   "execution_count": 7,
   "id": "d4511a6e",
   "metadata": {},
   "outputs": [
    {
     "name": "stderr",
     "output_type": "stream",
     "text": [
      "[WDM] - \n",
      "\n",
      "[WDM] - ====== WebDriver manager ======\n",
      "[WDM] - Current google-chrome version is 92.0.4515\n",
      "[WDM] - Driver [C:\\Users\\hungn\\.wdm\\drivers\\chromedriver\\win32\\92.0.4515.107\\chromedriver.exe] found in cache\n"
     ]
    }
   ],
   "source": [
    "options = uc.ChromeOptions()\n",
    "options.binary_location = \"E:/airdrop-tool/chrome/chrome/1/chrome/#0.exe\"\n",
    "options.add_argument('--no-first-run --no-service-autorun --password-store=basic')\n",
    "driver = uc.Chrome(ChromeDriverManager(version='92.0.4515.107').install(), options=options)"
   ]
  },
  {
   "cell_type": "code",
   "execution_count": 8,
   "id": "0c45bf51",
   "metadata": {},
   "outputs": [],
   "source": [
    "driver.get('https://web.telegram.org/z/')"
   ]
  },
  {
   "cell_type": "code",
   "execution_count": 9,
   "id": "52185430",
   "metadata": {},
   "outputs": [
    {
     "name": "stderr",
     "output_type": "stream",
     "text": [
      "C:\\Users\\hungn\\AppData\\Local\\Programs\\Python\\Python39\\lib\\site-packages\\selenium\\webdriver\\remote\\webdriver.py:723: UserWarning: find_element_by_* commands are deprecated. Please use find_element() instead\n",
      "  warnings.warn(\"find_element_by_* commands are deprecated. Please use find_element() instead\")\n"
     ]
    },
    {
     "ename": "NoSuchElementException",
     "evalue": "Message: no such element: Unable to locate element: {\"method\":\"css selector\",\"selector\":\"a[href=\"https://t.me/AvaxLauncherAnn\"]\"}\n  (Session info: chrome=92.0.4515.159)\nStacktrace:\nBacktrace:\n\tOrdinal0 [0x00852A33+2501171]\n\tOrdinal0 [0x007ED1C1+2085313]\n\tOrdinal0 [0x006F1FA8+1056680]\n\tOrdinal0 [0x0071C78B+1230731]\n\tOrdinal0 [0x007464A2+1402018]\n\tOrdinal0 [0x0073568A+1332874]\n\tOrdinal0 [0x007448BC+1394876]\n\tOrdinal0 [0x0073551B+1332507]\n\tOrdinal0 [0x00711D74+1187188]\n\tOrdinal0 [0x00712BD9+1190873]\n\tGetHandleVerifier [0x009CEFE6+1504438]\n\tGetHandleVerifier [0x00A7DDA5+2220661]\n\tGetHandleVerifier [0x008D5589+481881]\n\tGetHandleVerifier [0x008D4639+477961]\n\tOrdinal0 [0x007F28BD+2107581]\n\tOrdinal0 [0x007F6728+2123560]\n\tOrdinal0 [0x007F6862+2123874]\n\tOrdinal0 [0x007FFA81+2161281]\n\tBaseThreadInitThunk [0x7622FA29+25]\n\tRtlGetAppContainerNamedObjectPath [0x77867A9E+286]\n\tRtlGetAppContainerNamedObjectPath [0x77867A6E+238]\n",
     "output_type": "error",
     "traceback": [
      "\u001b[1;31m---------------------------------------------------------------------------\u001b[0m",
      "\u001b[1;31mNoSuchElementException\u001b[0m                    Traceback (most recent call last)",
      "\u001b[1;32m~\\AppData\\Local\\Temp/ipykernel_2556/1366048589.py\u001b[0m in \u001b[0;36m<module>\u001b[1;34m\u001b[0m\n\u001b[0;32m      3\u001b[0m \u001b[1;32mfrom\u001b[0m \u001b[0mselenium\u001b[0m\u001b[1;33m.\u001b[0m\u001b[0mwebdriver\u001b[0m\u001b[1;33m.\u001b[0m\u001b[0mcommon\u001b[0m\u001b[1;33m.\u001b[0m\u001b[0mkeys\u001b[0m \u001b[1;32mimport\u001b[0m \u001b[0mKeys\u001b[0m\u001b[1;33m\u001b[0m\u001b[1;33m\u001b[0m\u001b[0m\n\u001b[0;32m      4\u001b[0m \u001b[0mtelegram_search\u001b[0m\u001b[1;33m.\u001b[0m\u001b[0msend_keys\u001b[0m\u001b[1;33m(\u001b[0m\u001b[0mKeys\u001b[0m\u001b[1;33m.\u001b[0m\u001b[0mENTER\u001b[0m\u001b[1;33m)\u001b[0m\u001b[1;33m\u001b[0m\u001b[1;33m\u001b[0m\u001b[0m\n\u001b[1;32m----> 5\u001b[1;33m \u001b[0mchannel1\u001b[0m \u001b[1;33m=\u001b[0m \u001b[0mdriver\u001b[0m\u001b[1;33m.\u001b[0m\u001b[0mfind_element_by_css_selector\u001b[0m\u001b[1;33m(\u001b[0m\u001b[1;34m'a[href=\"https://t.me/AvaxLauncherAnn\"]'\u001b[0m\u001b[1;33m)\u001b[0m\u001b[1;33m\u001b[0m\u001b[1;33m\u001b[0m\u001b[0m\n\u001b[0m\u001b[0;32m      6\u001b[0m \u001b[0mchannel2\u001b[0m \u001b[1;33m=\u001b[0m \u001b[0mdriver\u001b[0m\u001b[1;33m.\u001b[0m\u001b[0mfind_element_by_css_selector\u001b[0m\u001b[1;33m(\u001b[0m\u001b[1;34m'a[href=\"https://t.me/libreannouncements\"]'\u001b[0m\u001b[1;33m)\u001b[0m\u001b[1;33m\u001b[0m\u001b[1;33m\u001b[0m\u001b[0m\n",
      "\u001b[1;32m~\\AppData\\Local\\Programs\\Python\\Python39\\lib\\site-packages\\selenium\\webdriver\\remote\\webdriver.py\u001b[0m in \u001b[0;36mfind_element_by_css_selector\u001b[1;34m(self, css_selector)\u001b[0m\n\u001b[0;32m    722\u001b[0m         \"\"\"\n\u001b[0;32m    723\u001b[0m         \u001b[0mwarnings\u001b[0m\u001b[1;33m.\u001b[0m\u001b[0mwarn\u001b[0m\u001b[1;33m(\u001b[0m\u001b[1;34m\"find_element_by_* commands are deprecated. Please use find_element() instead\"\u001b[0m\u001b[1;33m)\u001b[0m\u001b[1;33m\u001b[0m\u001b[1;33m\u001b[0m\u001b[0m\n\u001b[1;32m--> 724\u001b[1;33m         \u001b[1;32mreturn\u001b[0m \u001b[0mself\u001b[0m\u001b[1;33m.\u001b[0m\u001b[0mfind_element\u001b[0m\u001b[1;33m(\u001b[0m\u001b[0mby\u001b[0m\u001b[1;33m=\u001b[0m\u001b[0mBy\u001b[0m\u001b[1;33m.\u001b[0m\u001b[0mCSS_SELECTOR\u001b[0m\u001b[1;33m,\u001b[0m \u001b[0mvalue\u001b[0m\u001b[1;33m=\u001b[0m\u001b[0mcss_selector\u001b[0m\u001b[1;33m)\u001b[0m\u001b[1;33m\u001b[0m\u001b[1;33m\u001b[0m\u001b[0m\n\u001b[0m\u001b[0;32m    725\u001b[0m \u001b[1;33m\u001b[0m\u001b[0m\n\u001b[0;32m    726\u001b[0m     \u001b[1;32mdef\u001b[0m \u001b[0mfind_elements_by_css_selector\u001b[0m\u001b[1;33m(\u001b[0m\u001b[0mself\u001b[0m\u001b[1;33m,\u001b[0m \u001b[0mcss_selector\u001b[0m\u001b[1;33m)\u001b[0m \u001b[1;33m->\u001b[0m \u001b[0mWebElement\u001b[0m\u001b[1;33m:\u001b[0m\u001b[1;33m\u001b[0m\u001b[1;33m\u001b[0m\u001b[0m\n",
      "\u001b[1;32m~\\AppData\\Local\\Programs\\Python\\Python39\\lib\\site-packages\\selenium\\webdriver\\remote\\webdriver.py\u001b[0m in \u001b[0;36mfind_element\u001b[1;34m(self, by, value)\u001b[0m\n\u001b[0;32m   1151\u001b[0m             \u001b[0mvalue\u001b[0m \u001b[1;33m=\u001b[0m \u001b[1;34m'[name=\"%s\"]'\u001b[0m \u001b[1;33m%\u001b[0m \u001b[0mvalue\u001b[0m\u001b[1;33m\u001b[0m\u001b[1;33m\u001b[0m\u001b[0m\n\u001b[0;32m   1152\u001b[0m \u001b[1;33m\u001b[0m\u001b[0m\n\u001b[1;32m-> 1153\u001b[1;33m         return self.execute(Command.FIND_ELEMENT, {\n\u001b[0m\u001b[0;32m   1154\u001b[0m             \u001b[1;34m'using'\u001b[0m\u001b[1;33m:\u001b[0m \u001b[0mby\u001b[0m\u001b[1;33m,\u001b[0m\u001b[1;33m\u001b[0m\u001b[1;33m\u001b[0m\u001b[0m\n\u001b[0;32m   1155\u001b[0m             'value': value})['value']\n",
      "\u001b[1;32m~\\AppData\\Local\\Programs\\Python\\Python39\\lib\\site-packages\\selenium\\webdriver\\remote\\webdriver.py\u001b[0m in \u001b[0;36mexecute\u001b[1;34m(self, driver_command, params)\u001b[0m\n\u001b[0;32m    398\u001b[0m         \u001b[0mresponse\u001b[0m \u001b[1;33m=\u001b[0m \u001b[0mself\u001b[0m\u001b[1;33m.\u001b[0m\u001b[0mcommand_executor\u001b[0m\u001b[1;33m.\u001b[0m\u001b[0mexecute\u001b[0m\u001b[1;33m(\u001b[0m\u001b[0mdriver_command\u001b[0m\u001b[1;33m,\u001b[0m \u001b[0mparams\u001b[0m\u001b[1;33m)\u001b[0m\u001b[1;33m\u001b[0m\u001b[1;33m\u001b[0m\u001b[0m\n\u001b[0;32m    399\u001b[0m         \u001b[1;32mif\u001b[0m \u001b[0mresponse\u001b[0m\u001b[1;33m:\u001b[0m\u001b[1;33m\u001b[0m\u001b[1;33m\u001b[0m\u001b[0m\n\u001b[1;32m--> 400\u001b[1;33m             \u001b[0mself\u001b[0m\u001b[1;33m.\u001b[0m\u001b[0merror_handler\u001b[0m\u001b[1;33m.\u001b[0m\u001b[0mcheck_response\u001b[0m\u001b[1;33m(\u001b[0m\u001b[0mresponse\u001b[0m\u001b[1;33m)\u001b[0m\u001b[1;33m\u001b[0m\u001b[1;33m\u001b[0m\u001b[0m\n\u001b[0m\u001b[0;32m    401\u001b[0m             response['value'] = self._unwrap_value(\n\u001b[0;32m    402\u001b[0m                 response.get('value', None))\n",
      "\u001b[1;32m~\\AppData\\Local\\Programs\\Python\\Python39\\lib\\site-packages\\selenium\\webdriver\\remote\\errorhandler.py\u001b[0m in \u001b[0;36mcheck_response\u001b[1;34m(self, response)\u001b[0m\n\u001b[0;32m    234\u001b[0m                 \u001b[0malert_text\u001b[0m \u001b[1;33m=\u001b[0m \u001b[0mvalue\u001b[0m\u001b[1;33m[\u001b[0m\u001b[1;34m'alert'\u001b[0m\u001b[1;33m]\u001b[0m\u001b[1;33m.\u001b[0m\u001b[0mget\u001b[0m\u001b[1;33m(\u001b[0m\u001b[1;34m'text'\u001b[0m\u001b[1;33m)\u001b[0m\u001b[1;33m\u001b[0m\u001b[1;33m\u001b[0m\u001b[0m\n\u001b[0;32m    235\u001b[0m             \u001b[1;32mraise\u001b[0m \u001b[0mexception_class\u001b[0m\u001b[1;33m(\u001b[0m\u001b[0mmessage\u001b[0m\u001b[1;33m,\u001b[0m \u001b[0mscreen\u001b[0m\u001b[1;33m,\u001b[0m \u001b[0mstacktrace\u001b[0m\u001b[1;33m,\u001b[0m \u001b[0malert_text\u001b[0m\u001b[1;33m)\u001b[0m\u001b[1;33m\u001b[0m\u001b[1;33m\u001b[0m\u001b[0m\n\u001b[1;32m--> 236\u001b[1;33m         \u001b[1;32mraise\u001b[0m \u001b[0mexception_class\u001b[0m\u001b[1;33m(\u001b[0m\u001b[0mmessage\u001b[0m\u001b[1;33m,\u001b[0m \u001b[0mscreen\u001b[0m\u001b[1;33m,\u001b[0m \u001b[0mstacktrace\u001b[0m\u001b[1;33m)\u001b[0m\u001b[1;33m\u001b[0m\u001b[1;33m\u001b[0m\u001b[0m\n\u001b[0m\u001b[0;32m    237\u001b[0m \u001b[1;33m\u001b[0m\u001b[0m\n\u001b[0;32m    238\u001b[0m     \u001b[1;32mdef\u001b[0m \u001b[0m_value_or_default\u001b[0m\u001b[1;33m(\u001b[0m\u001b[0mself\u001b[0m\u001b[1;33m,\u001b[0m \u001b[0mobj\u001b[0m\u001b[1;33m,\u001b[0m \u001b[0mkey\u001b[0m\u001b[1;33m,\u001b[0m \u001b[0mdefault\u001b[0m\u001b[1;33m)\u001b[0m\u001b[1;33m:\u001b[0m\u001b[1;33m\u001b[0m\u001b[1;33m\u001b[0m\u001b[0m\n",
      "\u001b[1;31mNoSuchElementException\u001b[0m: Message: no such element: Unable to locate element: {\"method\":\"css selector\",\"selector\":\"a[href=\"https://t.me/AvaxLauncherAnn\"]\"}\n  (Session info: chrome=92.0.4515.159)\nStacktrace:\nBacktrace:\n\tOrdinal0 [0x00852A33+2501171]\n\tOrdinal0 [0x007ED1C1+2085313]\n\tOrdinal0 [0x006F1FA8+1056680]\n\tOrdinal0 [0x0071C78B+1230731]\n\tOrdinal0 [0x007464A2+1402018]\n\tOrdinal0 [0x0073568A+1332874]\n\tOrdinal0 [0x007448BC+1394876]\n\tOrdinal0 [0x0073551B+1332507]\n\tOrdinal0 [0x00711D74+1187188]\n\tOrdinal0 [0x00712BD9+1190873]\n\tGetHandleVerifier [0x009CEFE6+1504438]\n\tGetHandleVerifier [0x00A7DDA5+2220661]\n\tGetHandleVerifier [0x008D5589+481881]\n\tGetHandleVerifier [0x008D4639+477961]\n\tOrdinal0 [0x007F28BD+2107581]\n\tOrdinal0 [0x007F6728+2123560]\n\tOrdinal0 [0x007F6862+2123874]\n\tOrdinal0 [0x007FFA81+2161281]\n\tBaseThreadInitThunk [0x7622FA29+25]\n\tRtlGetAppContainerNamedObjectPath [0x77867A9E+286]\n\tRtlGetAppContainerNamedObjectPath [0x77867A6E+238]\n"
     ]
    }
   ],
   "source": [
    "telegram_search = driver.find_element_by_css_selector('input[id=\"telegram-search-input\"]')\n",
    "telegram_search.send_keys('hubofairdrop')\n",
    "from selenium.webdriver.common.keys import Keys\n",
    "telegram_search.send_keys(Keys.ENTER)\n",
    "channel1 = driver.find_element_by_css_selector('a[href=\"https://t.me/AvaxLauncherAnn\"]')\n",
    "channel2 = driver.find_element_by_css_selector('a[href=\"https://t.me/libreannouncements\"]')"
   ]
  },
  {
   "cell_type": "code",
   "execution_count": 10,
   "id": "f955f364",
   "metadata": {},
   "outputs": [
    {
     "name": "stderr",
     "output_type": "stream",
     "text": [
      "[WDM] - \n",
      "\n",
      "[WDM] - ====== WebDriver manager ======\n",
      "[WDM] - Current google-chrome version is 92.0.4515\n",
      "[WDM] - Driver [C:\\Users\\hungn\\.wdm\\drivers\\chromedriver\\win32\\92.0.4515.107\\chromedriver.exe] found in cache\n"
     ]
    }
   ],
   "source": [
    "options = uc.ChromeOptions()\n",
    "options.binary_location = \"E:/airdrop-tool/chrome/chrome/1/chrome/#0.exe\"\n",
    "options.add_argument('--no-first-run --no-service-autorun --password-store=basic')\n",
    "driver = uc.Chrome(ChromeDriverManager(version='92.0.4515.107').install(), options=options)"
   ]
  },
  {
   "cell_type": "code",
   "execution_count": 11,
   "id": "6b8030cd",
   "metadata": {},
   "outputs": [],
   "source": [
    "driver.get('https://web.telegram.org/z/')"
   ]
  },
  {
   "cell_type": "code",
   "execution_count": 12,
   "id": "a6f43674",
   "metadata": {},
   "outputs": [],
   "source": [
    "telegram_search = driver.find_element_by_css_selector('input[id=\"telegram-search-input\"]')\n",
    "telegram_search.send_keys('hubofairdrop')"
   ]
  },
  {
   "cell_type": "code",
   "execution_count": 13,
   "id": "9318ac9f",
   "metadata": {},
   "outputs": [],
   "source": [
    "from selenium.webdriver.common.keys import Keys\n",
    "telegram_search.send_keys(Keys.ENTER)"
   ]
  },
  {
   "cell_type": "code",
   "execution_count": 14,
   "id": "6634edd4",
   "metadata": {},
   "outputs": [],
   "source": [
    "channel1 = driver.find_element_by_css_selector('a[href=\"https://t.me/AvaxLauncherAnn\"]')"
   ]
  },
  {
   "cell_type": "code",
   "execution_count": 15,
   "id": "9b0cf042",
   "metadata": {},
   "outputs": [],
   "source": [
    "channel2 = driver.find_element_by_css_selector('a[href=\"https://t.me/libreannouncements\"]')"
   ]
  },
  {
   "cell_type": "code",
   "execution_count": 16,
   "id": "8f60a24b",
   "metadata": {},
   "outputs": [],
   "source": [
    "channel2.click()"
   ]
  },
  {
   "cell_type": "code",
   "execution_count": 20,
   "id": "d87fb4a0",
   "metadata": {},
   "outputs": [],
   "source": [
    "sub_button = driver.find_elements_by_css_selector('button[class=\"Button tiny primary fluid has-ripple\"]')\n",
    "if len(sub_button) > 0:\n",
    "    sub_button[0].click()"
   ]
  },
  {
   "cell_type": "code",
   "execution_count": 22,
   "id": "da690598",
   "metadata": {},
   "outputs": [
    {
     "ename": "StaleElementReferenceException",
     "evalue": "Message: stale element reference: element is not attached to the page document\n  (Session info: chrome=92.0.4515.159)\nStacktrace:\nBacktrace:\n\tOrdinal0 [0x00852A33+2501171]\n\tOrdinal0 [0x007ED1C1+2085313]\n\tOrdinal0 [0x006F1FA8+1056680]\n\tOrdinal0 [0x006F46D4+1066708]\n\tOrdinal0 [0x006F459E+1066398]\n\tOrdinal0 [0x006F4800+1067008]\n\tOrdinal0 [0x0071D129+1233193]\n\tOrdinal0 [0x0071D209+1233417]\n\tOrdinal0 [0x00715900+1202432]\n\tOrdinal0 [0x00735653+1332819]\n\tOrdinal0 [0x00712FD6+1191894]\n\tOrdinal0 [0x0073573A+1333050]\n\tOrdinal0 [0x007448BC+1394876]\n\tOrdinal0 [0x0073551B+1332507]\n\tOrdinal0 [0x00711D74+1187188]\n\tOrdinal0 [0x00712BD9+1190873]\n\tGetHandleVerifier [0x009CEFE6+1504438]\n\tGetHandleVerifier [0x00A7DDA5+2220661]\n\tGetHandleVerifier [0x008D5589+481881]\n\tGetHandleVerifier [0x008D4639+477961]\n\tOrdinal0 [0x007F28BD+2107581]\n\tOrdinal0 [0x007F6728+2123560]\n\tOrdinal0 [0x007F6862+2123874]\n\tOrdinal0 [0x007FFA81+2161281]\n\tBaseThreadInitThunk [0x7622FA29+25]\n\tRtlGetAppContainerNamedObjectPath [0x77867A9E+286]\n\tRtlGetAppContainerNamedObjectPath [0x77867A6E+238]\n",
     "output_type": "error",
     "traceback": [
      "\u001b[1;31m---------------------------------------------------------------------------\u001b[0m",
      "\u001b[1;31mStaleElementReferenceException\u001b[0m            Traceback (most recent call last)",
      "\u001b[1;32m~\\AppData\\Local\\Temp/ipykernel_2556/3604090431.py\u001b[0m in \u001b[0;36m<module>\u001b[1;34m\u001b[0m\n\u001b[1;32m----> 1\u001b[1;33m \u001b[0msub_button\u001b[0m\u001b[1;33m[\u001b[0m\u001b[1;36m0\u001b[0m\u001b[1;33m]\u001b[0m\u001b[1;33m.\u001b[0m\u001b[0msend_keys\u001b[0m\u001b[1;33m(\u001b[0m\u001b[0mKeys\u001b[0m\u001b[1;33m.\u001b[0m\u001b[0mRETURN\u001b[0m\u001b[1;33m)\u001b[0m\u001b[1;33m\u001b[0m\u001b[1;33m\u001b[0m\u001b[0m\n\u001b[0m",
      "\u001b[1;32m~\\AppData\\Local\\Programs\\Python\\Python39\\lib\\site-packages\\selenium\\webdriver\\remote\\webelement.py\u001b[0m in \u001b[0;36msend_keys\u001b[1;34m(self, *value)\u001b[0m\n\u001b[0;32m    537\u001b[0m                 \u001b[0mvalue\u001b[0m \u001b[1;33m=\u001b[0m \u001b[1;34m'\\n'\u001b[0m\u001b[1;33m.\u001b[0m\u001b[0mjoin\u001b[0m\u001b[1;33m(\u001b[0m\u001b[0mremote_files\u001b[0m\u001b[1;33m)\u001b[0m\u001b[1;33m\u001b[0m\u001b[1;33m\u001b[0m\u001b[0m\n\u001b[0;32m    538\u001b[0m \u001b[1;33m\u001b[0m\u001b[0m\n\u001b[1;32m--> 539\u001b[1;33m         self._execute(Command.SEND_KEYS_TO_ELEMENT,\n\u001b[0m\u001b[0;32m    540\u001b[0m                       {'text': \"\".join(keys_to_typing(value)),\n\u001b[0;32m    541\u001b[0m                        'value': keys_to_typing(value)})\n",
      "\u001b[1;32m~\\AppData\\Local\\Programs\\Python\\Python39\\lib\\site-packages\\selenium\\webdriver\\remote\\webelement.py\u001b[0m in \u001b[0;36m_execute\u001b[1;34m(self, command, params)\u001b[0m\n\u001b[0;32m    691\u001b[0m             \u001b[0mparams\u001b[0m \u001b[1;33m=\u001b[0m \u001b[1;33m{\u001b[0m\u001b[1;33m}\u001b[0m\u001b[1;33m\u001b[0m\u001b[1;33m\u001b[0m\u001b[0m\n\u001b[0;32m    692\u001b[0m         \u001b[0mparams\u001b[0m\u001b[1;33m[\u001b[0m\u001b[1;34m'id'\u001b[0m\u001b[1;33m]\u001b[0m \u001b[1;33m=\u001b[0m \u001b[0mself\u001b[0m\u001b[1;33m.\u001b[0m\u001b[0m_id\u001b[0m\u001b[1;33m\u001b[0m\u001b[1;33m\u001b[0m\u001b[0m\n\u001b[1;32m--> 693\u001b[1;33m         \u001b[1;32mreturn\u001b[0m \u001b[0mself\u001b[0m\u001b[1;33m.\u001b[0m\u001b[0m_parent\u001b[0m\u001b[1;33m.\u001b[0m\u001b[0mexecute\u001b[0m\u001b[1;33m(\u001b[0m\u001b[0mcommand\u001b[0m\u001b[1;33m,\u001b[0m \u001b[0mparams\u001b[0m\u001b[1;33m)\u001b[0m\u001b[1;33m\u001b[0m\u001b[1;33m\u001b[0m\u001b[0m\n\u001b[0m\u001b[0;32m    694\u001b[0m \u001b[1;33m\u001b[0m\u001b[0m\n\u001b[0;32m    695\u001b[0m     \u001b[1;32mdef\u001b[0m \u001b[0mfind_element\u001b[0m\u001b[1;33m(\u001b[0m\u001b[0mself\u001b[0m\u001b[1;33m,\u001b[0m \u001b[0mby\u001b[0m\u001b[1;33m=\u001b[0m\u001b[0mBy\u001b[0m\u001b[1;33m.\u001b[0m\u001b[0mID\u001b[0m\u001b[1;33m,\u001b[0m \u001b[0mvalue\u001b[0m\u001b[1;33m=\u001b[0m\u001b[1;32mNone\u001b[0m\u001b[1;33m)\u001b[0m\u001b[1;33m:\u001b[0m\u001b[1;33m\u001b[0m\u001b[1;33m\u001b[0m\u001b[0m\n",
      "\u001b[1;32m~\\AppData\\Local\\Programs\\Python\\Python39\\lib\\site-packages\\selenium\\webdriver\\remote\\webdriver.py\u001b[0m in \u001b[0;36mexecute\u001b[1;34m(self, driver_command, params)\u001b[0m\n\u001b[0;32m    398\u001b[0m         \u001b[0mresponse\u001b[0m \u001b[1;33m=\u001b[0m \u001b[0mself\u001b[0m\u001b[1;33m.\u001b[0m\u001b[0mcommand_executor\u001b[0m\u001b[1;33m.\u001b[0m\u001b[0mexecute\u001b[0m\u001b[1;33m(\u001b[0m\u001b[0mdriver_command\u001b[0m\u001b[1;33m,\u001b[0m \u001b[0mparams\u001b[0m\u001b[1;33m)\u001b[0m\u001b[1;33m\u001b[0m\u001b[1;33m\u001b[0m\u001b[0m\n\u001b[0;32m    399\u001b[0m         \u001b[1;32mif\u001b[0m \u001b[0mresponse\u001b[0m\u001b[1;33m:\u001b[0m\u001b[1;33m\u001b[0m\u001b[1;33m\u001b[0m\u001b[0m\n\u001b[1;32m--> 400\u001b[1;33m             \u001b[0mself\u001b[0m\u001b[1;33m.\u001b[0m\u001b[0merror_handler\u001b[0m\u001b[1;33m.\u001b[0m\u001b[0mcheck_response\u001b[0m\u001b[1;33m(\u001b[0m\u001b[0mresponse\u001b[0m\u001b[1;33m)\u001b[0m\u001b[1;33m\u001b[0m\u001b[1;33m\u001b[0m\u001b[0m\n\u001b[0m\u001b[0;32m    401\u001b[0m             response['value'] = self._unwrap_value(\n\u001b[0;32m    402\u001b[0m                 response.get('value', None))\n",
      "\u001b[1;32m~\\AppData\\Local\\Programs\\Python\\Python39\\lib\\site-packages\\selenium\\webdriver\\remote\\errorhandler.py\u001b[0m in \u001b[0;36mcheck_response\u001b[1;34m(self, response)\u001b[0m\n\u001b[0;32m    234\u001b[0m                 \u001b[0malert_text\u001b[0m \u001b[1;33m=\u001b[0m \u001b[0mvalue\u001b[0m\u001b[1;33m[\u001b[0m\u001b[1;34m'alert'\u001b[0m\u001b[1;33m]\u001b[0m\u001b[1;33m.\u001b[0m\u001b[0mget\u001b[0m\u001b[1;33m(\u001b[0m\u001b[1;34m'text'\u001b[0m\u001b[1;33m)\u001b[0m\u001b[1;33m\u001b[0m\u001b[1;33m\u001b[0m\u001b[0m\n\u001b[0;32m    235\u001b[0m             \u001b[1;32mraise\u001b[0m \u001b[0mexception_class\u001b[0m\u001b[1;33m(\u001b[0m\u001b[0mmessage\u001b[0m\u001b[1;33m,\u001b[0m \u001b[0mscreen\u001b[0m\u001b[1;33m,\u001b[0m \u001b[0mstacktrace\u001b[0m\u001b[1;33m,\u001b[0m \u001b[0malert_text\u001b[0m\u001b[1;33m)\u001b[0m\u001b[1;33m\u001b[0m\u001b[1;33m\u001b[0m\u001b[0m\n\u001b[1;32m--> 236\u001b[1;33m         \u001b[1;32mraise\u001b[0m \u001b[0mexception_class\u001b[0m\u001b[1;33m(\u001b[0m\u001b[0mmessage\u001b[0m\u001b[1;33m,\u001b[0m \u001b[0mscreen\u001b[0m\u001b[1;33m,\u001b[0m \u001b[0mstacktrace\u001b[0m\u001b[1;33m)\u001b[0m\u001b[1;33m\u001b[0m\u001b[1;33m\u001b[0m\u001b[0m\n\u001b[0m\u001b[0;32m    237\u001b[0m \u001b[1;33m\u001b[0m\u001b[0m\n\u001b[0;32m    238\u001b[0m     \u001b[1;32mdef\u001b[0m \u001b[0m_value_or_default\u001b[0m\u001b[1;33m(\u001b[0m\u001b[0mself\u001b[0m\u001b[1;33m,\u001b[0m \u001b[0mobj\u001b[0m\u001b[1;33m,\u001b[0m \u001b[0mkey\u001b[0m\u001b[1;33m,\u001b[0m \u001b[0mdefault\u001b[0m\u001b[1;33m)\u001b[0m\u001b[1;33m:\u001b[0m\u001b[1;33m\u001b[0m\u001b[1;33m\u001b[0m\u001b[0m\n",
      "\u001b[1;31mStaleElementReferenceException\u001b[0m: Message: stale element reference: element is not attached to the page document\n  (Session info: chrome=92.0.4515.159)\nStacktrace:\nBacktrace:\n\tOrdinal0 [0x00852A33+2501171]\n\tOrdinal0 [0x007ED1C1+2085313]\n\tOrdinal0 [0x006F1FA8+1056680]\n\tOrdinal0 [0x006F46D4+1066708]\n\tOrdinal0 [0x006F459E+1066398]\n\tOrdinal0 [0x006F4800+1067008]\n\tOrdinal0 [0x0071D129+1233193]\n\tOrdinal0 [0x0071D209+1233417]\n\tOrdinal0 [0x00715900+1202432]\n\tOrdinal0 [0x00735653+1332819]\n\tOrdinal0 [0x00712FD6+1191894]\n\tOrdinal0 [0x0073573A+1333050]\n\tOrdinal0 [0x007448BC+1394876]\n\tOrdinal0 [0x0073551B+1332507]\n\tOrdinal0 [0x00711D74+1187188]\n\tOrdinal0 [0x00712BD9+1190873]\n\tGetHandleVerifier [0x009CEFE6+1504438]\n\tGetHandleVerifier [0x00A7DDA5+2220661]\n\tGetHandleVerifier [0x008D5589+481881]\n\tGetHandleVerifier [0x008D4639+477961]\n\tOrdinal0 [0x007F28BD+2107581]\n\tOrdinal0 [0x007F6728+2123560]\n\tOrdinal0 [0x007F6862+2123874]\n\tOrdinal0 [0x007FFA81+2161281]\n\tBaseThreadInitThunk [0x7622FA29+25]\n\tRtlGetAppContainerNamedObjectPath [0x77867A9E+286]\n\tRtlGetAppContainerNamedObjectPath [0x77867A6E+238]\n"
     ]
    }
   ],
   "source": [
    "sub_button[0].send_keys(Keys.RETURN)"
   ]
  },
  {
   "cell_type": "code",
   "execution_count": 23,
   "id": "d64e754e",
   "metadata": {},
   "outputs": [
    {
     "name": "stderr",
     "output_type": "stream",
     "text": [
      "[WDM] - \n",
      "\n",
      "[WDM] - ====== WebDriver manager ======\n",
      "[WDM] - Current google-chrome version is 92.0.4515\n",
      "[WDM] - Driver [C:\\Users\\hungn\\.wdm\\drivers\\chromedriver\\win32\\92.0.4515.107\\chromedriver.exe] found in cache\n"
     ]
    }
   ],
   "source": [
    "options = uc.ChromeOptions()\n",
    "options.binary_location = \"E:/airdrop-tool/chrome/chrome/1/chrome/#0.exe\"\n",
    "options.add_argument('--no-first-run --no-service-autorun --password-store=basic')\n",
    "driver = uc.Chrome(ChromeDriverManager(version='92.0.4515.107').install(), options=options)"
   ]
  },
  {
   "cell_type": "code",
   "execution_count": 25,
   "id": "d6345372",
   "metadata": {},
   "outputs": [],
   "source": [
    "driver.get('https://youtube.com')"
   ]
  },
  {
   "cell_type": "code",
   "execution_count": 26,
   "id": "5632f054",
   "metadata": {},
   "outputs": [],
   "source": [
    " driver.execute_script(\"window.history.go(-1)\")"
   ]
  },
  {
   "cell_type": "code",
   "execution_count": 28,
   "id": "69148363",
   "metadata": {},
   "outputs": [
    {
     "ename": "AttributeError",
     "evalue": "'Chrome' object has no attribute 'exit'",
     "output_type": "error",
     "traceback": [
      "\u001b[1;31m---------------------------------------------------------------------------\u001b[0m",
      "\u001b[1;31mAttributeError\u001b[0m                            Traceback (most recent call last)",
      "\u001b[1;32m~\\AppData\\Local\\Temp/ipykernel_2556/2209802058.py\u001b[0m in \u001b[0;36m<module>\u001b[1;34m\u001b[0m\n\u001b[1;32m----> 1\u001b[1;33m \u001b[0mdriver\u001b[0m\u001b[1;33m.\u001b[0m\u001b[0mexit\u001b[0m\u001b[1;33m(\u001b[0m\u001b[1;33m)\u001b[0m\u001b[1;33m\u001b[0m\u001b[1;33m\u001b[0m\u001b[0m\n\u001b[0m",
      "\u001b[1;31mAttributeError\u001b[0m: 'Chrome' object has no attribute 'exit'"
     ]
    }
   ],
   "source": [
    "driver.exit()"
   ]
  },
  {
   "cell_type": "code",
   "execution_count": null,
   "id": "8c2beb35",
   "metadata": {},
   "outputs": [],
   "source": []
  }
 ],
 "metadata": {
  "kernelspec": {
   "display_name": "Python 3 (ipykernel)",
   "language": "python",
   "name": "python3"
  },
  "language_info": {
   "codemirror_mode": {
    "name": "ipython",
    "version": 3
   },
   "file_extension": ".py",
   "mimetype": "text/x-python",
   "name": "python",
   "nbconvert_exporter": "python",
   "pygments_lexer": "ipython3",
   "version": "3.9.7"
  }
 },
 "nbformat": 4,
 "nbformat_minor": 5
}
